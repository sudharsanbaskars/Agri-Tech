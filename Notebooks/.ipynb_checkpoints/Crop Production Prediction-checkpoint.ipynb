{
 "cells": [
  {
   "cell_type": "code",
   "execution_count": 1,
   "metadata": {
    "id": "eG08UKK2Niv8"
   },
   "outputs": [],
   "source": [
    "import numpy as np\n",
    "import pandas as pd\n",
    "from matplotlib import pyplot as plt\n",
    "import seaborn as sns\n",
    "%matplotlib inline"
   ]
  },
  {
   "cell_type": "code",
   "execution_count": 2,
   "metadata": {
    "id": "ZgjKrP_STUTh"
   },
   "outputs": [],
   "source": [
    "crop_df = pd.read_csv(\"crop_production.csv\")"
   ]
  },
  {
   "cell_type": "code",
   "execution_count": 3,
   "metadata": {
    "colab": {
     "base_uri": "https://localhost:8080/",
     "height": 204
    },
    "id": "9kYkz_fvTUyl",
    "outputId": "66ed1b46-0bc2-4758-a10f-a5d6f45fd7db"
   },
   "outputs": [
    {
     "data": {
      "text/html": [
       "<div>\n",
       "<style scoped>\n",
       "    .dataframe tbody tr th:only-of-type {\n",
       "        vertical-align: middle;\n",
       "    }\n",
       "\n",
       "    .dataframe tbody tr th {\n",
       "        vertical-align: top;\n",
       "    }\n",
       "\n",
       "    .dataframe thead th {\n",
       "        text-align: right;\n",
       "    }\n",
       "</style>\n",
       "<table border=\"1\" class=\"dataframe\">\n",
       "  <thead>\n",
       "    <tr style=\"text-align: right;\">\n",
       "      <th></th>\n",
       "      <th>State_Name</th>\n",
       "      <th>District_Name</th>\n",
       "      <th>Crop_Year</th>\n",
       "      <th>Season</th>\n",
       "      <th>Crop</th>\n",
       "      <th>Area</th>\n",
       "      <th>Production</th>\n",
       "    </tr>\n",
       "  </thead>\n",
       "  <tbody>\n",
       "    <tr>\n",
       "      <th>0</th>\n",
       "      <td>Andaman and Nicobar Islands</td>\n",
       "      <td>NICOBARS</td>\n",
       "      <td>2000</td>\n",
       "      <td>Kharif</td>\n",
       "      <td>Arecanut</td>\n",
       "      <td>1254.0</td>\n",
       "      <td>2000.0</td>\n",
       "    </tr>\n",
       "    <tr>\n",
       "      <th>1</th>\n",
       "      <td>Andaman and Nicobar Islands</td>\n",
       "      <td>NICOBARS</td>\n",
       "      <td>2000</td>\n",
       "      <td>Kharif</td>\n",
       "      <td>Other Kharif pulses</td>\n",
       "      <td>2.0</td>\n",
       "      <td>1.0</td>\n",
       "    </tr>\n",
       "    <tr>\n",
       "      <th>2</th>\n",
       "      <td>Andaman and Nicobar Islands</td>\n",
       "      <td>NICOBARS</td>\n",
       "      <td>2000</td>\n",
       "      <td>Kharif</td>\n",
       "      <td>Rice</td>\n",
       "      <td>102.0</td>\n",
       "      <td>321.0</td>\n",
       "    </tr>\n",
       "    <tr>\n",
       "      <th>3</th>\n",
       "      <td>Andaman and Nicobar Islands</td>\n",
       "      <td>NICOBARS</td>\n",
       "      <td>2000</td>\n",
       "      <td>Whole Year</td>\n",
       "      <td>Banana</td>\n",
       "      <td>176.0</td>\n",
       "      <td>641.0</td>\n",
       "    </tr>\n",
       "    <tr>\n",
       "      <th>4</th>\n",
       "      <td>Andaman and Nicobar Islands</td>\n",
       "      <td>NICOBARS</td>\n",
       "      <td>2000</td>\n",
       "      <td>Whole Year</td>\n",
       "      <td>Cashewnut</td>\n",
       "      <td>720.0</td>\n",
       "      <td>165.0</td>\n",
       "    </tr>\n",
       "  </tbody>\n",
       "</table>\n",
       "</div>"
      ],
      "text/plain": [
       "                    State_Name District_Name  ...    Area Production\n",
       "0  Andaman and Nicobar Islands      NICOBARS  ...  1254.0     2000.0\n",
       "1  Andaman and Nicobar Islands      NICOBARS  ...     2.0        1.0\n",
       "2  Andaman and Nicobar Islands      NICOBARS  ...   102.0      321.0\n",
       "3  Andaman and Nicobar Islands      NICOBARS  ...   176.0      641.0\n",
       "4  Andaman and Nicobar Islands      NICOBARS  ...   720.0      165.0\n",
       "\n",
       "[5 rows x 7 columns]"
      ]
     },
     "execution_count": 3,
     "metadata": {
      "tags": []
     },
     "output_type": "execute_result"
    }
   ],
   "source": [
    "crop_df.head()"
   ]
  },
  {
   "cell_type": "code",
   "execution_count": 4,
   "metadata": {
    "colab": {
     "base_uri": "https://localhost:8080/",
     "height": 204
    },
    "id": "etYQLs1-TVYJ",
    "outputId": "48b1483f-1be6-45b4-9ff1-331d05a02b5e"
   },
   "outputs": [
    {
     "data": {
      "text/html": [
       "<div>\n",
       "<style scoped>\n",
       "    .dataframe tbody tr th:only-of-type {\n",
       "        vertical-align: middle;\n",
       "    }\n",
       "\n",
       "    .dataframe tbody tr th {\n",
       "        vertical-align: top;\n",
       "    }\n",
       "\n",
       "    .dataframe thead th {\n",
       "        text-align: right;\n",
       "    }\n",
       "</style>\n",
       "<table border=\"1\" class=\"dataframe\">\n",
       "  <thead>\n",
       "    <tr style=\"text-align: right;\">\n",
       "      <th></th>\n",
       "      <th>State_Name</th>\n",
       "      <th>Season</th>\n",
       "      <th>Crop</th>\n",
       "      <th>Area</th>\n",
       "      <th>Production</th>\n",
       "    </tr>\n",
       "  </thead>\n",
       "  <tbody>\n",
       "    <tr>\n",
       "      <th>0</th>\n",
       "      <td>Andaman and Nicobar Islands</td>\n",
       "      <td>Kharif</td>\n",
       "      <td>Arecanut</td>\n",
       "      <td>1254.0</td>\n",
       "      <td>2000.0</td>\n",
       "    </tr>\n",
       "    <tr>\n",
       "      <th>1</th>\n",
       "      <td>Andaman and Nicobar Islands</td>\n",
       "      <td>Kharif</td>\n",
       "      <td>Other Kharif pulses</td>\n",
       "      <td>2.0</td>\n",
       "      <td>1.0</td>\n",
       "    </tr>\n",
       "    <tr>\n",
       "      <th>2</th>\n",
       "      <td>Andaman and Nicobar Islands</td>\n",
       "      <td>Kharif</td>\n",
       "      <td>Rice</td>\n",
       "      <td>102.0</td>\n",
       "      <td>321.0</td>\n",
       "    </tr>\n",
       "    <tr>\n",
       "      <th>3</th>\n",
       "      <td>Andaman and Nicobar Islands</td>\n",
       "      <td>Whole Year</td>\n",
       "      <td>Banana</td>\n",
       "      <td>176.0</td>\n",
       "      <td>641.0</td>\n",
       "    </tr>\n",
       "    <tr>\n",
       "      <th>4</th>\n",
       "      <td>Andaman and Nicobar Islands</td>\n",
       "      <td>Whole Year</td>\n",
       "      <td>Cashewnut</td>\n",
       "      <td>720.0</td>\n",
       "      <td>165.0</td>\n",
       "    </tr>\n",
       "  </tbody>\n",
       "</table>\n",
       "</div>"
      ],
      "text/plain": [
       "                    State_Name       Season  ...    Area  Production\n",
       "0  Andaman and Nicobar Islands  Kharif       ...  1254.0      2000.0\n",
       "1  Andaman and Nicobar Islands  Kharif       ...     2.0         1.0\n",
       "2  Andaman and Nicobar Islands  Kharif       ...   102.0       321.0\n",
       "3  Andaman and Nicobar Islands  Whole Year   ...   176.0       641.0\n",
       "4  Andaman and Nicobar Islands  Whole Year   ...   720.0       165.0\n",
       "\n",
       "[5 rows x 5 columns]"
      ]
     },
     "execution_count": 4,
     "metadata": {
      "tags": []
     },
     "output_type": "execute_result"
    }
   ],
   "source": [
    "crop_df = crop_df.drop(['District_Name', 'Crop_Year'], axis = 'columns')\n",
    "crop_df.head()"
   ]
  },
  {
   "cell_type": "code",
   "execution_count": 5,
   "metadata": {
    "colab": {
     "base_uri": "https://localhost:8080/"
    },
    "id": "45mGbT1oTV3H",
    "outputId": "86c904ee-a1a4-4315-a9d0-e18cf3c9e815"
   },
   "outputs": [
    {
     "data": {
      "text/plain": [
       "(246091, 5)"
      ]
     },
     "execution_count": 5,
     "metadata": {
      "tags": []
     },
     "output_type": "execute_result"
    }
   ],
   "source": [
    "crop_df.shape\n"
   ]
  },
  {
   "cell_type": "code",
   "execution_count": 6,
   "metadata": {
    "colab": {
     "base_uri": "https://localhost:8080/"
    },
    "id": "j_CKRtUeTWTB",
    "outputId": "b46258dd-1225-4017-ae1a-0b7b3e47d8f9"
   },
   "outputs": [
    {
     "data": {
      "text/plain": [
       "State_Name    0.000000\n",
       "Season        0.000000\n",
       "Crop          0.000000\n",
       "Area          0.000000\n",
       "Production    0.015157\n",
       "dtype: float64"
      ]
     },
     "execution_count": 6,
     "metadata": {
      "tags": []
     },
     "output_type": "execute_result"
    }
   ],
   "source": [
    "crop_df.isnull().mean()"
   ]
  },
  {
   "cell_type": "code",
   "execution_count": 7,
   "metadata": {
    "colab": {
     "base_uri": "https://localhost:8080/"
    },
    "id": "XQ8brQgKTvsx",
    "outputId": "4d17119c-b96e-44ba-9995-e32d7ecef588"
   },
   "outputs": [
    {
     "data": {
      "text/plain": [
       "State_Name       0\n",
       "Season           0\n",
       "Crop             0\n",
       "Area             0\n",
       "Production    3730\n",
       "dtype: int64"
      ]
     },
     "execution_count": 7,
     "metadata": {
      "tags": []
     },
     "output_type": "execute_result"
    }
   ],
   "source": [
    "crop_df.isnull().sum()"
   ]
  },
  {
   "cell_type": "code",
   "execution_count": 8,
   "metadata": {
    "colab": {
     "base_uri": "https://localhost:8080/"
    },
    "id": "xMnkYPgcTWxt",
    "outputId": "5e26b5a1-3cbe-4378-c173-5097c2b43158"
   },
   "outputs": [
    {
     "data": {
      "text/plain": [
       "['Area', 'Production']"
      ]
     },
     "execution_count": 8,
     "metadata": {
      "tags": []
     },
     "output_type": "execute_result"
    }
   ],
   "source": [
    "continuous_features = [feature for feature in crop_df.columns if crop_df[feature].dtypes != 'O']\n",
    "continuous_features"
   ]
  },
  {
   "cell_type": "code",
   "execution_count": 9,
   "metadata": {
    "colab": {
     "base_uri": "https://localhost:8080/"
    },
    "id": "4AYugGAQTXS-",
    "outputId": "9982986b-14ed-4c5f-a942-782acc1eabbb"
   },
   "outputs": [
    {
     "data": {
      "text/plain": [
       "['State_Name', 'Season', 'Crop']"
      ]
     },
     "execution_count": 9,
     "metadata": {
      "tags": []
     },
     "output_type": "execute_result"
    }
   ],
   "source": [
    "catogorical_features = [feature for feature in crop_df.columns if crop_df[feature].dtypes == 'O']\n",
    "catogorical_features"
   ]
  },
  {
   "cell_type": "code",
   "execution_count": 10,
   "metadata": {
    "colab": {
     "base_uri": "https://localhost:8080/",
     "height": 204
    },
    "id": "da2oz0pbTX3N",
    "outputId": "30af3c48-7e04-49ab-941a-75a96900b35a"
   },
   "outputs": [
    {
     "data": {
      "text/html": [
       "<div>\n",
       "<style scoped>\n",
       "    .dataframe tbody tr th:only-of-type {\n",
       "        vertical-align: middle;\n",
       "    }\n",
       "\n",
       "    .dataframe tbody tr th {\n",
       "        vertical-align: top;\n",
       "    }\n",
       "\n",
       "    .dataframe thead th {\n",
       "        text-align: right;\n",
       "    }\n",
       "</style>\n",
       "<table border=\"1\" class=\"dataframe\">\n",
       "  <thead>\n",
       "    <tr style=\"text-align: right;\">\n",
       "      <th></th>\n",
       "      <th>State_Name</th>\n",
       "      <th>Season</th>\n",
       "      <th>Crop</th>\n",
       "      <th>Area</th>\n",
       "      <th>Production</th>\n",
       "    </tr>\n",
       "  </thead>\n",
       "  <tbody>\n",
       "    <tr>\n",
       "      <th>0</th>\n",
       "      <td>Andaman and Nicobar Islands</td>\n",
       "      <td>Kharif</td>\n",
       "      <td>Arecanut</td>\n",
       "      <td>1254.0</td>\n",
       "      <td>2000.0</td>\n",
       "    </tr>\n",
       "    <tr>\n",
       "      <th>1</th>\n",
       "      <td>Andaman and Nicobar Islands</td>\n",
       "      <td>Kharif</td>\n",
       "      <td>Other Kharif pulses</td>\n",
       "      <td>2.0</td>\n",
       "      <td>1.0</td>\n",
       "    </tr>\n",
       "    <tr>\n",
       "      <th>2</th>\n",
       "      <td>Andaman and Nicobar Islands</td>\n",
       "      <td>Kharif</td>\n",
       "      <td>Rice</td>\n",
       "      <td>102.0</td>\n",
       "      <td>321.0</td>\n",
       "    </tr>\n",
       "    <tr>\n",
       "      <th>3</th>\n",
       "      <td>Andaman and Nicobar Islands</td>\n",
       "      <td>Whole Year</td>\n",
       "      <td>Banana</td>\n",
       "      <td>176.0</td>\n",
       "      <td>641.0</td>\n",
       "    </tr>\n",
       "    <tr>\n",
       "      <th>4</th>\n",
       "      <td>Andaman and Nicobar Islands</td>\n",
       "      <td>Whole Year</td>\n",
       "      <td>Cashewnut</td>\n",
       "      <td>720.0</td>\n",
       "      <td>165.0</td>\n",
       "    </tr>\n",
       "  </tbody>\n",
       "</table>\n",
       "</div>"
      ],
      "text/plain": [
       "                    State_Name       Season  ...    Area  Production\n",
       "0  Andaman and Nicobar Islands  Kharif       ...  1254.0      2000.0\n",
       "1  Andaman and Nicobar Islands  Kharif       ...     2.0         1.0\n",
       "2  Andaman and Nicobar Islands  Kharif       ...   102.0       321.0\n",
       "3  Andaman and Nicobar Islands  Whole Year   ...   176.0       641.0\n",
       "4  Andaman and Nicobar Islands  Whole Year   ...   720.0       165.0\n",
       "\n",
       "[5 rows x 5 columns]"
      ]
     },
     "execution_count": 10,
     "metadata": {
      "tags": []
     },
     "output_type": "execute_result"
    }
   ],
   "source": [
    "crop_df = crop_df.dropna(axis = 'rows')\n",
    "crop_df.head()"
   ]
  },
  {
   "cell_type": "code",
   "execution_count": 11,
   "metadata": {
    "colab": {
     "base_uri": "https://localhost:8080/"
    },
    "id": "JeCFWrxiUBf0",
    "outputId": "402c46c0-45e3-4f5d-ada1-cbba80e7c2f9"
   },
   "outputs": [
    {
     "data": {
      "text/plain": [
       "State_Name    0\n",
       "Season        0\n",
       "Crop          0\n",
       "Area          0\n",
       "Production    0\n",
       "dtype: int64"
      ]
     },
     "execution_count": 11,
     "metadata": {
      "tags": []
     },
     "output_type": "execute_result"
    }
   ],
   "source": [
    "crop_df.isnull().sum()"
   ]
  },
  {
   "cell_type": "code",
   "execution_count": 12,
   "metadata": {
    "colab": {
     "base_uri": "https://localhost:8080/"
    },
    "id": "wAKV5C7JUEhO",
    "outputId": "2c5c7f72-4309-4cee-e5fc-a4cce11b5e61"
   },
   "outputs": [
    {
     "name": "stdout",
     "output_type": "stream",
     "text": [
      "Uttar Pradesh                  33189\n",
      "Madhya Pradesh                 22604\n",
      "Karnataka                      21079\n",
      "Bihar                          18874\n",
      "Assam                          14622\n",
      "Odisha                         13524\n",
      "Tamil Nadu                     13266\n",
      "Maharashtra                    12496\n",
      "Rajasthan                      12066\n",
      "Chhattisgarh                   10368\n",
      "West Bengal                     9597\n",
      "Andhra Pradesh                  9561\n",
      "Gujarat                         8365\n",
      "Telangana                       5591\n",
      "Uttarakhand                     4825\n",
      "Haryana                         4540\n",
      "Kerala                          4003\n",
      "Nagaland                        3904\n",
      "Punjab                          3143\n",
      "Meghalaya                       2867\n",
      "Arunachal Pradesh               2545\n",
      "Himachal Pradesh                2456\n",
      "Jammu and Kashmir               1632\n",
      "Tripura                         1412\n",
      "Manipur                         1266\n",
      "Jharkhand                       1266\n",
      "Mizoram                          954\n",
      "Puducherry                       872\n",
      "Sikkim                           714\n",
      "Dadra and Nagar Haveli           263\n",
      "Goa                              207\n",
      "Andaman and Nicobar Islands      201\n",
      "Chandigarh                        89\n",
      "Name: State_Name, dtype: int64\n",
      "Kharif         94283\n",
      "Rabi           66160\n",
      "Whole Year     56127\n",
      "Summer         14811\n",
      "Winter          6050\n",
      "Autumn          4930\n",
      "Name: Season, dtype: int64\n",
      "Rice                 15082\n",
      "Maize                13787\n",
      "Moong(Green Gram)    10106\n",
      "Urad                  9710\n",
      "Sesamum               8821\n",
      "                     ...  \n",
      "Pear                     6\n",
      "Litchi                   6\n",
      "Apple                    4\n",
      "Peach                    4\n",
      "Other Dry Fruit          1\n",
      "Name: Crop, Length: 124, dtype: int64\n"
     ]
    }
   ],
   "source": [
    "for feature in catogorical_features:\n",
    "    print(crop_df[feature].value_counts())"
   ]
  },
  {
   "cell_type": "code",
   "execution_count": 13,
   "metadata": {
    "colab": {
     "base_uri": "https://localhost:8080/"
    },
    "id": "exVNaCemUE8H",
    "outputId": "4dd882f1-35c1-481e-ef73-b504f6e1c938"
   },
   "outputs": [
    {
     "name": "stdout",
     "output_type": "stream",
     "text": [
      "['Andaman and Nicobar Islands' 'Andhra Pradesh' 'Arunachal Pradesh'\n",
      " 'Assam' 'Bihar' 'Chandigarh' 'Chhattisgarh' 'Dadra and Nagar Haveli'\n",
      " 'Goa' 'Gujarat' 'Haryana' 'Himachal Pradesh' 'Jammu and Kashmir '\n",
      " 'Jharkhand' 'Karnataka' 'Kerala' 'Madhya Pradesh' 'Maharashtra' 'Manipur'\n",
      " 'Meghalaya' 'Mizoram' 'Nagaland' 'Odisha' 'Puducherry' 'Punjab'\n",
      " 'Rajasthan' 'Sikkim' 'Tamil Nadu' 'Telangana ' 'Tripura' 'Uttar Pradesh'\n",
      " 'Uttarakhand' 'West Bengal']\n",
      "33\n",
      "\n",
      "\n",
      "['Kharif     ' 'Whole Year ' 'Autumn     ' 'Rabi       ' 'Summer     '\n",
      " 'Winter     ']\n",
      "6\n",
      "\n",
      "\n",
      "['Arecanut' 'Other Kharif pulses' 'Rice' 'Banana' 'Cashewnut' 'Coconut '\n",
      " 'Dry ginger' 'Sugarcane' 'Sweet potato' 'Tapioca' 'Black pepper'\n",
      " 'Dry chillies' 'other oilseeds' 'Turmeric' 'Maize' 'Moong(Green Gram)'\n",
      " 'Urad' 'Arhar/Tur' 'Groundnut' 'Sunflower' 'Bajra' 'Castor seed'\n",
      " 'Cotton(lint)' 'Horse-gram' 'Jowar' 'Korra' 'Ragi' 'Tobacco' 'Gram'\n",
      " 'Wheat' 'Masoor' 'Sesamum' 'Linseed' 'Safflower' 'Onion'\n",
      " 'other misc. pulses' 'Samai' 'Small millets' 'Coriander' 'Potato'\n",
      " 'Other  Rabi pulses' 'Soyabean' 'Beans & Mutter(Vegetable)' 'Bhindi'\n",
      " 'Brinjal' 'Citrus Fruit' 'Cucumber' 'Grapes' 'Mango' 'Orange'\n",
      " 'other fibres' 'Other Fresh Fruits' 'Other Vegetables' 'Papaya'\n",
      " 'Pome Fruit' 'Tomato' 'Mesta' 'Cowpea(Lobia)' 'Lemon' 'Pome Granet'\n",
      " 'Sapota' 'Cabbage' 'Rapeseed &Mustard' 'Peas  (vegetable)' 'Niger seed'\n",
      " 'Bottle Gourd' 'Varagu' 'Garlic' 'Ginger' 'Oilseeds total' 'Pulses total'\n",
      " 'Jute' 'Peas & beans (Pulses)' 'Blackgram' 'Paddy' 'Pineapple' 'Barley'\n",
      " 'Sannhamp' 'Khesari' 'Guar seed' 'Moth' 'Other Cereals & Millets'\n",
      " 'Cond-spcs other' 'Turnip' 'Carrot' 'Redish' 'Arcanut (Processed)'\n",
      " 'Atcanut (Raw)' 'Cashewnut Processed' 'Cashewnut Raw' 'Cardamom' 'Rubber'\n",
      " 'Bitter Gourd' 'Drum Stick' 'Jack Fruit' 'Snak Guard' 'Tea' 'Coffee'\n",
      " 'Cauliflower' 'Other Citrus Fruit' 'Water Melon' 'Total foodgrain'\n",
      " 'Kapas' 'Colocosia' 'Lentil' 'Bean' 'Jobster' 'Perilla' 'Rajmash Kholar'\n",
      " 'Ricebean (nagadal)' 'Ash Gourd' 'Beet Root' 'Lab-Lab' 'Ribed Guard'\n",
      " 'Yam' 'Pump Kin' 'Apple' 'Peach' 'Pear' 'Plums' 'Litchi' 'Ber'\n",
      " 'Other Dry Fruit' 'Jute & mesta']\n",
      "124\n",
      "\n",
      "\n"
     ]
    }
   ],
   "source": [
    "for feature in catogorical_features:\n",
    "    print(crop_df[feature].unique())\n",
    "    print(len(crop_df[feature].unique()))\n",
    "    print(\"\\n\")"
   ]
  },
  {
   "cell_type": "code",
   "execution_count": 14,
   "metadata": {
    "colab": {
     "base_uri": "https://localhost:8080/"
    },
    "id": "ccQNGuNJUFSI",
    "outputId": "efdf0111-74d1-4a1c-c866-a9f75b9a448b"
   },
   "outputs": [
    {
     "data": {
      "text/plain": [
       "Rice                 15082\n",
       "Maize                13787\n",
       "Moong(Green Gram)    10106\n",
       "Urad                  9710\n",
       "Sesamum               8821\n",
       "                     ...  \n",
       "Pear                     6\n",
       "Litchi                   6\n",
       "Apple                    4\n",
       "Peach                    4\n",
       "Other Dry Fruit          1\n",
       "Name: Crop, Length: 124, dtype: int64"
      ]
     },
     "execution_count": 14,
     "metadata": {
      "tags": []
     },
     "output_type": "execute_result"
    }
   ],
   "source": [
    "crop_df['Crop'].value_counts()"
   ]
  },
  {
   "cell_type": "code",
   "execution_count": 15,
   "metadata": {
    "colab": {
     "base_uri": "https://localhost:8080/",
     "height": 1000
    },
    "id": "Doa0CMKTUFmD",
    "outputId": "b526e4c4-e5e6-4e26-d0a1-d89b2bb6e2d0"
   },
   "outputs": [
    {
     "data": {
      "image/png": "[encoded data removed]",
      "text/plain": [
       "<Figure size 1440x3600 with 1 Axes>"
      ]
     },
     "metadata": {
      "needs_background": "light",
      "tags": []
     },
     "output_type": "display_data"
    }
   ],
   "source": [
    "plt.figure(figsize=(20, 50))\n",
    "crop_df['Crop'].value_counts().plot(kind=\"barh\")\n",
    "plt.show()"
   ]
  },
  {
   "cell_type": "code",
   "execution_count": 16,
   "metadata": {
    "colab": {
     "base_uri": "https://localhost:8080/",
     "height": 1000
    },
    "id": "gVO37zilUHeL",
    "outputId": "29797abc-ddea-4f70-9542-74c6775edde7"
   },
   "outputs": [
    {
     "data": {
      "image/png": "[encoded data removed]",
      "text/plain": [
       "<Figure size 1440x2160 with 1 Axes>"
      ]
     },
     "metadata": {
      "needs_background": "light",
      "tags": []
     },
     "output_type": "display_data"
    }
   ],
   "source": [
    "plt.figure(figsize=(20, 30))\n",
    "crop_df['State_Name'].value_counts().plot(kind=\"barh\")\n",
    "plt.show()"
   ]
  },
  {
   "cell_type": "code",
   "execution_count": 17,
   "metadata": {
    "id": "T3OwJAapUH1d"
   },
   "outputs": [],
   "source": [
    "crop_not_needed = ['Other Dry Fruit', 'Peach', 'Plums', 'Litchi', 'Pear', 'Turnip', 'Perilla', 'Jobster', 'other fibres', \n",
    "                  'Ricebean (nagadal)', 'Colocosia', 'Ber', 'Kapas', 'Rajmesh Kholar', 'Cond-spcs other', 'Arcanut (Processed)',\n",
    "                  'Atcanut (Raw)', 'Lentil', 'Yam', 'Ribed Guard', 'Ash Gourd', 'Lab-Lab', 'other misc. pulses', 'Snak Guard', \n",
    "                  'Bottle Gourd', 'Korra', 'Beans & Mutter(Vegetable)', 'Total foodgrain', 'Cabbage', 'Bhindi', 'Pulses total',\n",
    "                  'Pome Fruit', 'Peas  (vegetable)', 'Beet Root', 'Jute & mesta', 'Cowpea(Lobia)', 'other oilseeds', \n",
    "                  'Other Cereals & Millets', 'Moth', 'Guar seed', 'Safflower', 'Arecanut', 'Tapioca', 'Mesta', 'Sannhamp', \n",
    "                  'Other Rabi pulses', 'Horse-gram', 'Bean', 'Cashewnut Processed', 'Redish', 'Oilseeds total', 'Khesari',\n",
    "                  'Niger seed', 'Dry ginger', 'Castor seed', 'Other Kharif pulses', 'Bitter Gourd', 'Black pepper', \n",
    "                  'Other Rabi pulses', 'Carrot', 'Rubber', 'Cashewnut Raw', 'Lemon', 'Sapota', 'Pome Granet', \n",
    "                  'Other Citrus Fruit', 'Tobacco']\n",
    "for val in crop_df['Crop']:\n",
    "    if val in crop_not_needed:\n",
    "        del_list = crop_df.index[crop_df['Crop'] == val].tolist()\n",
    "        crop_df = crop_df.drop(del_list, axis = \"rows\")"
   ]
  },
  {
   "cell_type": "code",
   "execution_count": 18,
   "metadata": {
    "id": "Bhlf9lqSUINC"
   },
   "outputs": [],
   "source": [
    "add_crop_not_needed = ['Rajmash Kholar', 'Pump Kin', 'Other  Rabi pulses', 'Cucumber', 'Bajra']\n",
    "for val in crop_df['Crop']:\n",
    "    if val in add_crop_not_needed:\n",
    "        del_list = crop_df.index[crop_df['Crop'] == val].tolist()\n",
    "        crop_df = crop_df.drop(del_list, axis = \"rows\")"
   ]
  },
  {
   "cell_type": "code",
   "execution_count": 19,
   "metadata": {
    "colab": {
     "base_uri": "https://localhost:8080/",
     "height": 204
    },
    "id": "TAqOeHxHUIpb",
    "outputId": "5d66c1fb-15d6-4fd1-b836-07d9516e5897"
   },
   "outputs": [
    {
     "data": {
      "text/html": [
       "<div>\n",
       "<style scoped>\n",
       "    .dataframe tbody tr th:only-of-type {\n",
       "        vertical-align: middle;\n",
       "    }\n",
       "\n",
       "    .dataframe tbody tr th {\n",
       "        vertical-align: top;\n",
       "    }\n",
       "\n",
       "    .dataframe thead th {\n",
       "        text-align: right;\n",
       "    }\n",
       "</style>\n",
       "<table border=\"1\" class=\"dataframe\">\n",
       "  <thead>\n",
       "    <tr style=\"text-align: right;\">\n",
       "      <th></th>\n",
       "      <th>State_Name</th>\n",
       "      <th>Season</th>\n",
       "      <th>Crop</th>\n",
       "      <th>Area</th>\n",
       "      <th>Production</th>\n",
       "    </tr>\n",
       "  </thead>\n",
       "  <tbody>\n",
       "    <tr>\n",
       "      <th>2</th>\n",
       "      <td>Andaman and Nicobar Islands</td>\n",
       "      <td>Kharif</td>\n",
       "      <td>Rice</td>\n",
       "      <td>102.0</td>\n",
       "      <td>321.0</td>\n",
       "    </tr>\n",
       "    <tr>\n",
       "      <th>3</th>\n",
       "      <td>Andaman and Nicobar Islands</td>\n",
       "      <td>Whole Year</td>\n",
       "      <td>Banana</td>\n",
       "      <td>176.0</td>\n",
       "      <td>641.0</td>\n",
       "    </tr>\n",
       "    <tr>\n",
       "      <th>4</th>\n",
       "      <td>Andaman and Nicobar Islands</td>\n",
       "      <td>Whole Year</td>\n",
       "      <td>Cashewnut</td>\n",
       "      <td>720.0</td>\n",
       "      <td>165.0</td>\n",
       "    </tr>\n",
       "    <tr>\n",
       "      <th>5</th>\n",
       "      <td>Andaman and Nicobar Islands</td>\n",
       "      <td>Whole Year</td>\n",
       "      <td>Coconut</td>\n",
       "      <td>18168.0</td>\n",
       "      <td>65100000.0</td>\n",
       "    </tr>\n",
       "    <tr>\n",
       "      <th>7</th>\n",
       "      <td>Andaman and Nicobar Islands</td>\n",
       "      <td>Whole Year</td>\n",
       "      <td>Sugarcane</td>\n",
       "      <td>1.0</td>\n",
       "      <td>2.0</td>\n",
       "    </tr>\n",
       "  </tbody>\n",
       "</table>\n",
       "</div>"
      ],
      "text/plain": [
       "                    State_Name       Season       Crop     Area  Production\n",
       "2  Andaman and Nicobar Islands  Kharif            Rice    102.0       321.0\n",
       "3  Andaman and Nicobar Islands  Whole Year      Banana    176.0       641.0\n",
       "4  Andaman and Nicobar Islands  Whole Year   Cashewnut    720.0       165.0\n",
       "5  Andaman and Nicobar Islands  Whole Year    Coconut   18168.0  65100000.0\n",
       "7  Andaman and Nicobar Islands  Whole Year   Sugarcane      1.0         2.0"
      ]
     },
     "execution_count": 19,
     "metadata": {
      "tags": []
     },
     "output_type": "execute_result"
    }
   ],
   "source": [
    "crop_df.head()"
   ]
  },
  {
   "cell_type": "code",
   "execution_count": 20,
   "metadata": {
    "id": "0e7tunRUUJBz"
   },
   "outputs": [],
   "source": [
    "crop_df.to_csv('Processed_dataset.csv', index = False)"
   ]
  },
  {
   "cell_type": "code",
   "execution_count": 21,
   "metadata": {
    "colab": {
     "base_uri": "https://localhost:8080/"
    },
    "id": "Z0C7j53nc2S3",
    "outputId": "5635849e-e213-45ed-da63-ea231d386cad"
   },
   "outputs": [
    {
     "data": {
      "text/plain": [
       "(197972, 5)"
      ]
     },
     "execution_count": 21,
     "metadata": {
      "tags": []
     },
     "output_type": "execute_result"
    }
   ],
   "source": [
    "crop_df.shape"
   ]
  },
  {
   "cell_type": "code",
   "execution_count": 22,
   "metadata": {
    "colab": {
     "base_uri": "https://localhost:8080/",
     "height": 1000
    },
    "id": "BVA1s--jc5pd",
    "outputId": "fe93d7a8-1c7c-43e0-b5f1-0caddd63fca3"
   },
   "outputs": [
    {
     "data": {
      "image/png": "[encoded data removed]",
      "text/plain": [
       "<Figure size 1440x3600 with 1 Axes>"
      ]
     },
     "metadata": {
      "needs_background": "light",
      "tags": []
     },
     "output_type": "display_data"
    }
   ],
   "source": [
    "plt.figure(figsize=(20, 50))\n",
    "crop_df['Crop'].value_counts().plot(kind=\"barh\")\n",
    "plt.show()"
   ]
  },
  {
   "cell_type": "code",
   "execution_count": 23,
   "metadata": {
    "colab": {
     "base_uri": "https://localhost:8080/"
    },
    "id": "NvT4Nzojc6Tw",
    "outputId": "4d6a98db-3458-4afe-c9c8-28bcebfdf3b5"
   },
   "outputs": [
    {
     "data": {
      "text/plain": [
       "55"
      ]
     },
     "execution_count": 23,
     "metadata": {
      "tags": []
     },
     "output_type": "execute_result"
    }
   ],
   "source": [
    "len(crop_df['Crop'].unique())"
   ]
  },
  {
   "cell_type": "code",
   "execution_count": 24,
   "metadata": {
    "id": "kSDwV15Jc6xa"
   },
   "outputs": [],
   "source": [
    "#encoding the state name\n",
    "state_dict = {}\n",
    "i = 1\n",
    "for val in crop_df['State_Name'].unique():\n",
    "    state_dict[val] = i\n",
    "    i = i+1"
   ]
  },
  {
   "cell_type": "code",
   "execution_count": 25,
   "metadata": {
    "colab": {
     "base_uri": "https://localhost:8080/"
    },
    "id": "yViyFRWic7Oa",
    "outputId": "5f87874b-153d-41fa-b530-ee2caef049e5"
   },
   "outputs": [
    {
     "data": {
      "text/plain": [
       "{'Andaman and Nicobar Islands': 1,\n",
       " 'Andhra Pradesh': 2,\n",
       " 'Arunachal Pradesh': 3,\n",
       " 'Assam': 4,\n",
       " 'Bihar': 5,\n",
       " 'Chandigarh': 6,\n",
       " 'Chhattisgarh': 7,\n",
       " 'Dadra and Nagar Haveli': 8,\n",
       " 'Goa': 9,\n",
       " 'Gujarat': 10,\n",
       " 'Haryana': 11,\n",
       " 'Himachal Pradesh': 12,\n",
       " 'Jammu and Kashmir ': 13,\n",
       " 'Jharkhand': 14,\n",
       " 'Karnataka': 15,\n",
       " 'Kerala': 16,\n",
       " 'Madhya Pradesh': 17,\n",
       " 'Maharashtra': 18,\n",
       " 'Manipur': 19,\n",
       " 'Meghalaya': 20,\n",
       " 'Mizoram': 21,\n",
       " 'Nagaland': 22,\n",
       " 'Odisha': 23,\n",
       " 'Puducherry': 24,\n",
       " 'Punjab': 25,\n",
       " 'Rajasthan': 26,\n",
       " 'Sikkim': 27,\n",
       " 'Tamil Nadu': 28,\n",
       " 'Telangana ': 29,\n",
       " 'Tripura': 30,\n",
       " 'Uttar Pradesh': 31,\n",
       " 'Uttarakhand': 32,\n",
       " 'West Bengal': 33}"
      ]
     },
     "execution_count": 25,
     "metadata": {
      "tags": []
     },
     "output_type": "execute_result"
    }
   ],
   "source": [
    "state_dict"
   ]
  },
  {
   "cell_type": "code",
   "execution_count": 26,
   "metadata": {
    "id": "5mf6JEc1c7mR"
   },
   "outputs": [],
   "source": [
    "# Encoding the season feature\n",
    "season_dict = {}\n",
    "i = 1\n",
    "for val in crop_df['Season'].unique():\n",
    "    season_dict[val] = i\n",
    "    i = i+1"
   ]
  },
  {
   "cell_type": "code",
   "execution_count": 27,
   "metadata": {
    "colab": {
     "base_uri": "https://localhost:8080/"
    },
    "id": "8aKDmp2xc8Ey",
    "outputId": "060271e6-5649-4b4d-e942-3c3b5c1c1ba6"
   },
   "outputs": [
    {
     "data": {
      "text/plain": [
       "{'Autumn     ': 3,\n",
       " 'Kharif     ': 1,\n",
       " 'Rabi       ': 4,\n",
       " 'Summer     ': 5,\n",
       " 'Whole Year ': 2,\n",
       " 'Winter     ': 6}"
      ]
     },
     "execution_count": 27,
     "metadata": {
      "tags": []
     },
     "output_type": "execute_result"
    }
   ],
   "source": [
    "season_dict"
   ]
  },
  {
   "cell_type": "code",
   "execution_count": 28,
   "metadata": {
    "id": "mFaEVye1c9Om"
   },
   "outputs": [],
   "source": [
    "#Encoding the crop feature\n",
    "crop_dict = {}\n",
    "i = 1\n",
    "for val in crop_df['Crop'].unique():\n",
    "    crop_dict[val] = i\n",
    "    i = i+1"
   ]
  },
  {
   "cell_type": "code",
   "execution_count": 29,
   "metadata": {
    "colab": {
     "base_uri": "https://localhost:8080/"
    },
    "id": "noCUdRb4c9mS",
    "outputId": "a3098991-1246-4eaa-8fcc-86642c3ac514"
   },
   "outputs": [
    {
     "data": {
      "text/plain": [
       "{'Apple': 55,\n",
       " 'Arhar/Tur': 12,\n",
       " 'Banana': 2,\n",
       " 'Barley': 47,\n",
       " 'Blackgram': 44,\n",
       " 'Brinjal': 29,\n",
       " 'Cardamom': 48,\n",
       " 'Cashewnut': 3,\n",
       " 'Cauliflower': 53,\n",
       " 'Citrus Fruit': 30,\n",
       " 'Coconut ': 4,\n",
       " 'Coffee': 52,\n",
       " 'Coriander': 26,\n",
       " 'Cotton(lint)': 15,\n",
       " 'Drum Stick': 49,\n",
       " 'Dry chillies': 7,\n",
       " 'Garlic': 40,\n",
       " 'Ginger': 41,\n",
       " 'Gram': 18,\n",
       " 'Grapes': 31,\n",
       " 'Groundnut': 13,\n",
       " 'Jack Fruit': 50,\n",
       " 'Jowar': 16,\n",
       " 'Jute': 42,\n",
       " 'Linseed': 22,\n",
       " 'Maize': 9,\n",
       " 'Mango': 32,\n",
       " 'Masoor': 20,\n",
       " 'Moong(Green Gram)': 10,\n",
       " 'Onion': 23,\n",
       " 'Orange': 33,\n",
       " 'Other Fresh Fruits': 34,\n",
       " 'Other Vegetables': 35,\n",
       " 'Paddy': 45,\n",
       " 'Papaya': 36,\n",
       " 'Peas & beans (Pulses)': 43,\n",
       " 'Pineapple': 46,\n",
       " 'Potato': 27,\n",
       " 'Ragi': 17,\n",
       " 'Rapeseed &Mustard': 38,\n",
       " 'Rice': 1,\n",
       " 'Samai': 24,\n",
       " 'Sesamum': 21,\n",
       " 'Small millets': 25,\n",
       " 'Soyabean': 28,\n",
       " 'Sugarcane': 5,\n",
       " 'Sunflower': 14,\n",
       " 'Sweet potato': 6,\n",
       " 'Tea': 51,\n",
       " 'Tomato': 37,\n",
       " 'Turmeric': 8,\n",
       " 'Urad': 11,\n",
       " 'Varagu': 39,\n",
       " 'Water Melon': 54,\n",
       " 'Wheat': 19}"
      ]
     },
     "execution_count": 29,
     "metadata": {
      "tags": []
     },
     "output_type": "execute_result"
    }
   ],
   "source": [
    "crop_dict"
   ]
  },
  {
   "cell_type": "code",
   "execution_count": 30,
   "metadata": {
    "id": "jeOb3kjZc-LH"
   },
   "outputs": [],
   "source": [
    "crop_df['Season'] = crop_df['Season'].apply(lambda x: season_dict[x])\n",
    "crop_df['Crop'] = crop_df['Crop'].apply(lambda x: crop_dict[x])\n",
    "crop_df['State_Name'] = crop_df['State_Name'].apply(lambda x: state_dict[x])"
   ]
  },
  {
   "cell_type": "code",
   "execution_count": 31,
   "metadata": {
    "colab": {
     "base_uri": "https://localhost:8080/",
     "height": 204
    },
    "id": "9pEEBPrqc-51",
    "outputId": "4cf477f1-c77f-4caa-8cdc-9dd19d462d32"
   },
   "outputs": [
    {
     "data": {
      "text/html": [
       "<div>\n",
       "<style scoped>\n",
       "    .dataframe tbody tr th:only-of-type {\n",
       "        vertical-align: middle;\n",
       "    }\n",
       "\n",
       "    .dataframe tbody tr th {\n",
       "        vertical-align: top;\n",
       "    }\n",
       "\n",
       "    .dataframe thead th {\n",
       "        text-align: right;\n",
       "    }\n",
       "</style>\n",
       "<table border=\"1\" class=\"dataframe\">\n",
       "  <thead>\n",
       "    <tr style=\"text-align: right;\">\n",
       "      <th></th>\n",
       "      <th>State_Name</th>\n",
       "      <th>Season</th>\n",
       "      <th>Crop</th>\n",
       "      <th>Area</th>\n",
       "      <th>Production</th>\n",
       "    </tr>\n",
       "  </thead>\n",
       "  <tbody>\n",
       "    <tr>\n",
       "      <th>2</th>\n",
       "      <td>1</td>\n",
       "      <td>1</td>\n",
       "      <td>1</td>\n",
       "      <td>102.0</td>\n",
       "      <td>321.0</td>\n",
       "    </tr>\n",
       "    <tr>\n",
       "      <th>3</th>\n",
       "      <td>1</td>\n",
       "      <td>2</td>\n",
       "      <td>2</td>\n",
       "      <td>176.0</td>\n",
       "      <td>641.0</td>\n",
       "    </tr>\n",
       "    <tr>\n",
       "      <th>4</th>\n",
       "      <td>1</td>\n",
       "      <td>2</td>\n",
       "      <td>3</td>\n",
       "      <td>720.0</td>\n",
       "      <td>165.0</td>\n",
       "    </tr>\n",
       "    <tr>\n",
       "      <th>5</th>\n",
       "      <td>1</td>\n",
       "      <td>2</td>\n",
       "      <td>4</td>\n",
       "      <td>18168.0</td>\n",
       "      <td>65100000.0</td>\n",
       "    </tr>\n",
       "    <tr>\n",
       "      <th>7</th>\n",
       "      <td>1</td>\n",
       "      <td>2</td>\n",
       "      <td>5</td>\n",
       "      <td>1.0</td>\n",
       "      <td>2.0</td>\n",
       "    </tr>\n",
       "  </tbody>\n",
       "</table>\n",
       "</div>"
      ],
      "text/plain": [
       "   State_Name  Season  Crop     Area  Production\n",
       "2           1       1     1    102.0       321.0\n",
       "3           1       2     2    176.0       641.0\n",
       "4           1       2     3    720.0       165.0\n",
       "5           1       2     4  18168.0  65100000.0\n",
       "7           1       2     5      1.0         2.0"
      ]
     },
     "execution_count": 31,
     "metadata": {
      "tags": []
     },
     "output_type": "execute_result"
    }
   ],
   "source": [
    "crop_df.head()"
   ]
  },
  {
   "cell_type": "code",
   "execution_count": 32,
   "metadata": {
    "colab": {
     "base_uri": "https://localhost:8080/",
     "height": 287
    },
    "id": "6TmosZqvd3nj",
    "outputId": "32a2c60f-4d75-46cb-c387-c1a14f130422"
   },
   "outputs": [
    {
     "data": {
      "text/plain": [
       "<matplotlib.axes._subplots.AxesSubplot at 0x7fe891ec5ad0>"
      ]
     },
     "execution_count": 32,
     "metadata": {
      "tags": []
     },
     "output_type": "execute_result"
    },
    {
     "data": {
      "image/png": "[encoded data removed]",
      "text/plain": [
       "<Figure size 432x288 with 2 Axes>"
      ]
     },
     "metadata": {
      "needs_background": "light",
      "tags": []
     },
     "output_type": "display_data"
    }
   ],
   "source": [
    "sns.heatmap(crop_df.corr(),annot=True)"
   ]
  },
  {
   "cell_type": "code",
   "execution_count": 33,
   "metadata": {
    "colab": {
     "base_uri": "https://localhost:8080/",
     "height": 558
    },
    "id": "A1Z9KZlRd57p",
    "outputId": "2ea46c91-28c1-4afd-b567-531e81ce50ec"
   },
   "outputs": [
    {
     "data": {
      "image/png": "[encoded data removed]",
      "text/plain": [
       "<Figure size 432x288 with 1 Axes>"
      ]
     },
     "metadata": {
      "needs_background": "light",
      "tags": []
     },
     "output_type": "display_data"
    },
    {
     "data": {
      "image/png": "[encoded data removed]",
      "text/plain": [
       "<Figure size 432x288 with 1 Axes>"
      ]
     },
     "metadata": {
      "needs_background": "light",
      "tags": []
     },
     "output_type": "display_data"
    }
   ],
   "source": [
    "continuous_features = ['Area', 'Production']\n",
    "for feature in continuous_features:\n",
    "    plt.hist(crop_df[feature])\n",
    "    plt.title(feature)\n",
    "    plt.show()"
   ]
  },
  {
   "cell_type": "code",
   "execution_count": 34,
   "metadata": {
    "colab": {
     "base_uri": "https://localhost:8080/",
     "height": 290
    },
    "id": "_hOydqodd6Ti",
    "outputId": "17511cb2-361f-4ff9-f9d3-aa15cd50fc5a"
   },
   "outputs": [
    {
     "data": {
      "image/png": "[encoded data removed]",
      "text/plain": [
       "<Figure size 432x288 with 1 Axes>"
      ]
     },
     "metadata": {
      "needs_background": "light",
      "tags": []
     },
     "output_type": "display_data"
    }
   ],
   "source": [
    "plt.scatter(x = crop_df['Area'], y = crop_df['Production'])\n",
    "plt.xlabel('Area')\n",
    "plt.ylabel('Production')\n",
    "plt.show()"
   ]
  },
  {
   "cell_type": "code",
   "execution_count": 35,
   "metadata": {
    "colab": {
     "base_uri": "https://localhost:8080/",
     "height": 350
    },
    "id": "Xe6JL_ZRd7Py",
    "outputId": "afc9377c-3c1d-4a31-e658-328d15996f82"
   },
   "outputs": [
    {
     "name": "stderr",
     "output_type": "stream",
     "text": [
      "/usr/local/lib/python3.7/dist-packages/seaborn/_decorators.py:43: FutureWarning: Pass the following variable as a keyword arg: x. From version 0.12, the only valid positional argument will be `data`, and passing other arguments without an explicit keyword will result in an error or misinterpretation.\n",
      "  FutureWarning\n"
     ]
    },
    {
     "data": {
      "text/plain": [
       "<matplotlib.axes._subplots.AxesSubplot at 0x7fe88953a090>"
      ]
     },
     "execution_count": 35,
     "metadata": {
      "tags": []
     },
     "output_type": "execute_result"
    },
    {
     "data": {
      "image/png": "[encoded data removed]",
      "text/plain": [
       "<Figure size 432x288 with 1 Axes>"
      ]
     },
     "metadata": {
      "needs_background": "light",
      "tags": []
     },
     "output_type": "display_data"
    }
   ],
   "source": [
    "sns.boxplot(crop_df['Production'])"
   ]
  },
  {
   "cell_type": "code",
   "execution_count": 36,
   "metadata": {
    "colab": {
     "base_uri": "https://localhost:8080/",
     "height": 350
    },
    "id": "pdURGt9nd7ty",
    "outputId": "8f97b24b-2f00-46a9-aeac-ddcd577946da"
   },
   "outputs": [
    {
     "name": "stderr",
     "output_type": "stream",
     "text": [
      "/usr/local/lib/python3.7/dist-packages/seaborn/_decorators.py:43: FutureWarning: Pass the following variable as a keyword arg: x. From version 0.12, the only valid positional argument will be `data`, and passing other arguments without an explicit keyword will result in an error or misinterpretation.\n",
      "  FutureWarning\n"
     ]
    },
    {
     "data": {
      "text/plain": [
       "<matplotlib.axes._subplots.AxesSubplot at 0x7fe8894fec50>"
      ]
     },
     "execution_count": 36,
     "metadata": {
      "tags": []
     },
     "output_type": "execute_result"
    },
    {
     "data": {
      "image/png": "[encoded data removed]",
      "text/plain": [
       "<Figure size 432x288 with 1 Axes>"
      ]
     },
     "metadata": {
      "needs_background": "light",
      "tags": []
     },
     "output_type": "display_data"
    }
   ],
   "source": [
    "sns.boxplot(crop_df['Area'])"
   ]
  },
  {
   "cell_type": "code",
   "execution_count": 37,
   "metadata": {
    "id": "xAHzfGdyd8F8"
   },
   "outputs": [],
   "source": [
    "del_list = crop_df.index[crop_df['Production'] == crop_df['Production'].min()].tolist()\n",
    "crop_df = crop_df.drop(del_list, axis = \"rows\")"
   ]
  },
  {
   "cell_type": "code",
   "execution_count": 38,
   "metadata": {
    "colab": {
     "base_uri": "https://localhost:8080/"
    },
    "id": "GanhHPYSc_sC",
    "outputId": "86c2793e-ea26-4920-a380-09ed845795d6"
   },
   "outputs": [
    {
     "data": {
      "text/plain": [
       "(195891, 5)"
      ]
     },
     "execution_count": 38,
     "metadata": {
      "tags": []
     },
     "output_type": "execute_result"
    }
   ],
   "source": [
    "crop_df.shape"
   ]
  },
  {
   "cell_type": "code",
   "execution_count": 39,
   "metadata": {
    "colab": {
     "base_uri": "https://localhost:8080/",
     "height": 204
    },
    "id": "MbQ9DaL9ebrQ",
    "outputId": "645842c1-2d89-4100-b2ce-4f55a0868612"
   },
   "outputs": [
    {
     "data": {
      "text/html": [
       "<div>\n",
       "<style scoped>\n",
       "    .dataframe tbody tr th:only-of-type {\n",
       "        vertical-align: middle;\n",
       "    }\n",
       "\n",
       "    .dataframe tbody tr th {\n",
       "        vertical-align: top;\n",
       "    }\n",
       "\n",
       "    .dataframe thead th {\n",
       "        text-align: right;\n",
       "    }\n",
       "</style>\n",
       "<table border=\"1\" class=\"dataframe\">\n",
       "  <thead>\n",
       "    <tr style=\"text-align: right;\">\n",
       "      <th></th>\n",
       "      <th>State_Name</th>\n",
       "      <th>Season</th>\n",
       "      <th>Crop</th>\n",
       "      <th>Area</th>\n",
       "      <th>Production</th>\n",
       "    </tr>\n",
       "  </thead>\n",
       "  <tbody>\n",
       "    <tr>\n",
       "      <th>2</th>\n",
       "      <td>1</td>\n",
       "      <td>1</td>\n",
       "      <td>1</td>\n",
       "      <td>102.0</td>\n",
       "      <td>321.0</td>\n",
       "    </tr>\n",
       "    <tr>\n",
       "      <th>3</th>\n",
       "      <td>1</td>\n",
       "      <td>2</td>\n",
       "      <td>2</td>\n",
       "      <td>176.0</td>\n",
       "      <td>641.0</td>\n",
       "    </tr>\n",
       "    <tr>\n",
       "      <th>4</th>\n",
       "      <td>1</td>\n",
       "      <td>2</td>\n",
       "      <td>3</td>\n",
       "      <td>720.0</td>\n",
       "      <td>165.0</td>\n",
       "    </tr>\n",
       "    <tr>\n",
       "      <th>5</th>\n",
       "      <td>1</td>\n",
       "      <td>2</td>\n",
       "      <td>4</td>\n",
       "      <td>18168.0</td>\n",
       "      <td>65100000.0</td>\n",
       "    </tr>\n",
       "    <tr>\n",
       "      <th>7</th>\n",
       "      <td>1</td>\n",
       "      <td>2</td>\n",
       "      <td>5</td>\n",
       "      <td>1.0</td>\n",
       "      <td>2.0</td>\n",
       "    </tr>\n",
       "  </tbody>\n",
       "</table>\n",
       "</div>"
      ],
      "text/plain": [
       "   State_Name  Season  Crop     Area  Production\n",
       "2           1       1     1    102.0       321.0\n",
       "3           1       2     2    176.0       641.0\n",
       "4           1       2     3    720.0       165.0\n",
       "5           1       2     4  18168.0  65100000.0\n",
       "7           1       2     5      1.0         2.0"
      ]
     },
     "execution_count": 39,
     "metadata": {
      "tags": []
     },
     "output_type": "execute_result"
    }
   ],
   "source": [
    "crop_df.head()"
   ]
  },
  {
   "cell_type": "code",
   "execution_count": 40,
   "metadata": {
    "id": "en99KrhOecHy"
   },
   "outputs": [],
   "source": [
    "features_to_scale = ['State_Name', 'Season', 'Crop', 'Area']"
   ]
  },
  {
   "cell_type": "code",
   "execution_count": 41,
   "metadata": {
    "colab": {
     "base_uri": "https://localhost:8080/"
    },
    "id": "fD_RJHl8ecoj",
    "outputId": "37c7d04c-6d07-442b-8f6a-efa134590520"
   },
   "outputs": [
    {
     "name": "stdout",
     "output_type": "stream",
     "text": [
      "[[-1.76344062 -1.02899234 -1.3654731  -0.33502843]\n",
      " [-1.76344062 -0.37513972 -1.27959933 -0.33312204]\n",
      " [-1.76344062 -0.37513972 -1.19372557 -0.31910757]\n",
      " ...\n",
      " [ 1.44112116 -0.37513972 -1.02197804 -0.32930928]\n",
      " [ 1.44112116  2.24027074 -1.3654731   6.85380509]\n",
      " [ 1.44112116  2.24027074  0.35200216 -0.33314781]]\n"
     ]
    }
   ],
   "source": [
    "from sklearn.preprocessing import StandardScaler\n",
    "standardized_data = StandardScaler().fit_transform(crop_df[features_to_scale])\n",
    "print(standardized_data)"
   ]
  },
  {
   "cell_type": "code",
   "execution_count": 42,
   "metadata": {
    "colab": {
     "base_uri": "https://localhost:8080/"
    },
    "id": "qr-Pc71xedBc",
    "outputId": "88d13b1f-0d98-4da8-fb78-697babf526e3"
   },
   "outputs": [
    {
     "data": {
      "text/plain": [
       "(195891, 4)"
      ]
     },
     "execution_count": 42,
     "metadata": {
      "tags": []
     },
     "output_type": "execute_result"
    }
   ],
   "source": [
    "standardized_data.shape"
   ]
  },
  {
   "cell_type": "code",
   "execution_count": 43,
   "metadata": {
    "colab": {
     "base_uri": "https://localhost:8080/",
     "height": 204
    },
    "id": "2b99SEIbedYt",
    "outputId": "c8ce5654-6cee-406d-9599-e469eb2fe0e8"
   },
   "outputs": [
    {
     "data": {
      "text/html": [
       "<div>\n",
       "<style scoped>\n",
       "    .dataframe tbody tr th:only-of-type {\n",
       "        vertical-align: middle;\n",
       "    }\n",
       "\n",
       "    .dataframe tbody tr th {\n",
       "        vertical-align: top;\n",
       "    }\n",
       "\n",
       "    .dataframe thead th {\n",
       "        text-align: right;\n",
       "    }\n",
       "</style>\n",
       "<table border=\"1\" class=\"dataframe\">\n",
       "  <thead>\n",
       "    <tr style=\"text-align: right;\">\n",
       "      <th></th>\n",
       "      <th>State_Name</th>\n",
       "      <th>Season</th>\n",
       "      <th>Crop</th>\n",
       "      <th>Area</th>\n",
       "    </tr>\n",
       "  </thead>\n",
       "  <tbody>\n",
       "    <tr>\n",
       "      <th>0</th>\n",
       "      <td>-1.763441</td>\n",
       "      <td>-1.028992</td>\n",
       "      <td>-1.365473</td>\n",
       "      <td>-0.335028</td>\n",
       "    </tr>\n",
       "    <tr>\n",
       "      <th>1</th>\n",
       "      <td>-1.763441</td>\n",
       "      <td>-0.375140</td>\n",
       "      <td>-1.279599</td>\n",
       "      <td>-0.333122</td>\n",
       "    </tr>\n",
       "    <tr>\n",
       "      <th>2</th>\n",
       "      <td>-1.763441</td>\n",
       "      <td>-0.375140</td>\n",
       "      <td>-1.193726</td>\n",
       "      <td>-0.319108</td>\n",
       "    </tr>\n",
       "    <tr>\n",
       "      <th>3</th>\n",
       "      <td>-1.763441</td>\n",
       "      <td>-0.375140</td>\n",
       "      <td>-1.107852</td>\n",
       "      <td>0.130386</td>\n",
       "    </tr>\n",
       "    <tr>\n",
       "      <th>4</th>\n",
       "      <td>-1.763441</td>\n",
       "      <td>-0.375140</td>\n",
       "      <td>-1.021978</td>\n",
       "      <td>-0.337630</td>\n",
       "    </tr>\n",
       "  </tbody>\n",
       "</table>\n",
       "</div>"
      ],
      "text/plain": [
       "   State_Name    Season      Crop      Area\n",
       "0   -1.763441 -1.028992 -1.365473 -0.335028\n",
       "1   -1.763441 -0.375140 -1.279599 -0.333122\n",
       "2   -1.763441 -0.375140 -1.193726 -0.319108\n",
       "3   -1.763441 -0.375140 -1.107852  0.130386\n",
       "4   -1.763441 -0.375140 -1.021978 -0.337630"
      ]
     },
     "execution_count": 43,
     "metadata": {
      "tags": []
     },
     "output_type": "execute_result"
    }
   ],
   "source": [
    "inputs = pd.DataFrame(standardized_data, columns=['State_Name', 'Season', 'Crop', 'Area'])\n",
    "inputs.head()"
   ]
  },
  {
   "cell_type": "code",
   "execution_count": 44,
   "metadata": {
    "id": "cpOVy8nqfR8g"
   },
   "outputs": [],
   "source": [
    "from sklearn.model_selection import train_test_split\n",
    "A_train, A_test, B_train, B_test = train_test_split(inputs, crop_df['Production'],test_size=0.55, random_state=0)"
   ]
  },
  {
   "cell_type": "code",
   "execution_count": 47,
   "metadata": {
    "id": "z7puKokefrYG"
   },
   "outputs": [],
   "source": [
    "from sklearn.ensemble import RandomForestRegressor\n",
    "rf = RandomForestRegressor()\n",
    "rf.fit(A_train, B_train)\n",
    "preds = rf.predict(A_test)"
   ]
  },
  {
   "cell_type": "code",
   "execution_count": 48,
   "metadata": {
    "colab": {
     "base_uri": "https://localhost:8080/"
    },
    "id": "K_Mi1lTUfrzH",
    "outputId": "6e3b5a66-e0ac-4edb-dfa5-eec25331fb27"
   },
   "outputs": [
    {
     "name": "stdout",
     "output_type": "stream",
     "text": [
      "R2score when we predict using Randomn forest is  0.7980780763982639\n"
     ]
    }
   ],
   "source": [
    "from sklearn.metrics import r2_score\n",
    "r = r2_score(B_test,preds)\n",
    "print(\"R2score when we predict using Randomn forest is \",r)"
   ]
  },
  {
   "cell_type": "code",
   "execution_count": 49,
   "metadata": {
    "colab": {
     "base_uri": "https://localhost:8080/"
    },
    "id": "vVYaRxIHfsTU",
    "outputId": "4889c69c-3818-4338-90f7-784e8ea8c284"
   },
   "outputs": [
    {
     "name": "stdout",
     "output_type": "stream",
     "text": [
      "[783313.56]\n"
     ]
    }
   ],
   "source": [
    "data = np.array([[1,1,1,102.0]])\n",
    "prediction = rf.predict(data)\n",
    "print(prediction)"
   ]
  },
  {
   "cell_type": "code",
   "execution_count": 50,
   "metadata": {
    "id": "FjS-PLyufs58"
   },
   "outputs": [],
   "source": [
    "inputs_without_std =  crop_df.drop('Production', axis = 'columns')\n",
    "output = crop_df['Production']"
   ]
  },
  {
   "cell_type": "code",
   "execution_count": 65,
   "metadata": {
    "id": "19oi8iomhWnh"
   },
   "outputs": [],
   "source": [
    "X_train, X_test, y_train, y_test = train_test_split(inputs_without_std, \n",
    "                                                    output,test_size=0.43, random_state=5)"
   ]
  },
  {
   "cell_type": "code",
   "execution_count": 66,
   "metadata": {
    "id": "FnOikqoOhXNK"
   },
   "outputs": [],
   "source": [
    "from sklearn.ensemble import RandomForestRegressor\n",
    "rf = RandomForestRegressor()\n",
    "rf.fit(X_train, y_train)\n",
    "preds = rf.predict(X_test)"
   ]
  },
  {
   "cell_type": "code",
   "execution_count": 67,
   "metadata": {
    "colab": {
     "base_uri": "https://localhost:8080/"
    },
    "id": "oLk4ImCdhXsF",
    "outputId": "e363408d-76e0-4582-8246-e32ab87680fb"
   },
   "outputs": [
    {
     "name": "stdout",
     "output_type": "stream",
     "text": [
      "R2score when we predict using Randomn forest is  0.8340678635348239\n"
     ]
    }
   ],
   "source": [
    "from sklearn.metrics import r2_score\n",
    "r = r2_score(y_test,preds)\n",
    "print(\"R2score when we predict using Randomn forest is \",r)"
   ]
  },
  {
   "cell_type": "code",
   "execution_count": 69,
   "metadata": {
    "colab": {
     "base_uri": "https://localhost:8080/"
    },
    "id": "hbKiaubojxaN",
    "outputId": "7c9a20d1-a317-4f93-f332-7383d53a0cee"
   },
   "outputs": [
    {
     "name": "stdout",
     "output_type": "stream",
     "text": [
      "[271.12]\n"
     ]
    }
   ],
   "source": [
    "data = np.array([[1,1,1,102.0]])\n",
    "prediction = rf.predict(data)\n",
    "print(prediction)"
   ]
  },
  {
   "cell_type": "code",
   "execution_count": 70,
   "metadata": {
    "id": "RIx-I0JQtYe1"
   },
   "outputs": [],
   "source": [
    "import pickle\n",
    "# Dump the trained Naive Bayes classifier with Pickle\n",
    "RF_pkl_filename = 'Analysis_Prediction.pkl'\n",
    "# Open the file to save as pkl file\n",
    "Analysis_pkl = open(RF_pkl_filename, 'wb')\n",
    "pickle.dump(rf, Analysis_pkl)"
   ]
  }
 ],
 "metadata": {
  "colab": {
   "name": "CROP PRODUCTION ANALYSIS.ipynb",
   "provenance": []
  },
  "kernelspec": {
   "display_name": "Python 3",
   "language": "python",
   "name": "python3"
  },
  "language_info": {
   "codemirror_mode": {
    "name": "ipython",
    "version": 3
   },
   "file_extension": ".py",
   "mimetype": "text/x-python",
   "name": "python",
   "nbconvert_exporter": "python",
   "pygments_lexer": "ipython3",
   "version": "3.8.5"
  }
 },
 "nbformat": 4,
 "nbformat_minor": 1
}
